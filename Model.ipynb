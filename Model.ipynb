{
 "cells": [
  {
   "cell_type": "markdown",
   "metadata": {},
   "source": [
    "# Project Exhebition -1"
   ]
  },
  {
   "cell_type": "markdown",
   "metadata": {},
   "source": [
    "## Predicting the probability of having Lung Cancer "
   ]
  },
  {
   "cell_type": "markdown",
   "metadata": {},
   "source": [
    "## Steps:"
   ]
  },
  {
   "cell_type": "markdown",
   "metadata": {},
   "source": [
    "**_IMPORTING THE LIBRARIES_**"
   ]
  },
  {
   "cell_type": "code",
   "execution_count": 157,
   "metadata": {},
   "outputs": [],
   "source": [
    "import pandas as pd\n",
    "import matplotlib.pyplot as plt\n",
    "import numpy as np"
   ]
  },
  {
   "cell_type": "markdown",
   "metadata": {},
   "source": [
    "**_IMPORTING THE DATASET_**"
   ]
  },
  {
   "cell_type": "code",
   "execution_count": 158,
   "metadata": {},
   "outputs": [],
   "source": [
    "dataset = pd.read_csv('LungCancerSurvey.csv')\n",
    "x= dataset.iloc[ : , :-1]\n",
    "y= dataset.iloc[ : , -1]"
   ]
  },
  {
   "cell_type": "markdown",
   "metadata": {},
   "source": [
    "## Encoding the data "
   ]
  },
  {
   "cell_type": "markdown",
   "metadata": {},
   "source": [
    "***ENCODING THE FEATURES***"
   ]
  },
  {
   "cell_type": "code",
   "execution_count": 159,
   "metadata": {},
   "outputs": [],
   "source": [
    "from sklearn.compose import ColumnTransformer\n",
    "from sklearn.preprocessing import OneHotEncoder\n",
    "\n",
    "ct = ColumnTransformer(transformers = [('encoder' , OneHotEncoder() , [0])], remainder = 'passthrough')\n",
    "x = np.array(ct.fit_transform(x))\n"
   ]
  },
  {
   "cell_type": "markdown",
   "metadata": {},
   "source": [
    "***ENCODING THE DEPENDENT VARIABLE***"
   ]
  },
  {
   "cell_type": "code",
   "execution_count": 160,
   "metadata": {},
   "outputs": [],
   "source": [
    "from sklearn.preprocessing import LabelEncoder\n",
    "le = LabelEncoder()\n",
    "y = le.fit_transform(y)"
   ]
  },
  {
   "cell_type": "markdown",
   "metadata": {},
   "source": [
    "***SPLITTING THE DATASET INTO TRAINING AND TEST SET***"
   ]
  },
  {
   "cell_type": "code",
   "execution_count": 161,
   "metadata": {},
   "outputs": [],
   "source": [
    "from sklearn.model_selection import train_test_split\n",
    "x_train,x_test,y_train,y_test = train_test_split(x,y,test_size=0.2,random_state=0)"
   ]
  },
  {
   "cell_type": "markdown",
   "metadata": {},
   "source": [
    "***PRINTING THE NEW SETS***"
   ]
  },
  {
   "cell_type": "code",
   "execution_count": 162,
   "metadata": {},
   "outputs": [
    {
     "name": "stdout",
     "output_type": "stream",
     "text": [
      "[[ 1.  0. 51. ...  2.  2.  1.]\n",
      " [ 0.  1. 72. ...  2.  2.  2.]\n",
      " [ 0.  1. 59. ...  2.  1.  1.]\n",
      " ...\n",
      " [ 1.  0. 51. ...  2.  2.  1.]\n",
      " [ 1.  0. 64. ...  1.  2.  2.]\n",
      " [ 0.  1. 56. ...  1.  1.  1.]]\n"
     ]
    }
   ],
   "source": [
    "print(x_train)"
   ]
  },
  {
   "cell_type": "code",
   "execution_count": 163,
   "metadata": {},
   "outputs": [
    {
     "name": "stdout",
     "output_type": "stream",
     "text": [
      "[[ 1.  0. 68.  1.  1.  2.  1.  2.  1.  2.  2.  2.  1.  1.  2.  1.]\n",
      " [ 0.  1. 64.  2.  2.  2.  2.  1.  2.  2.  1.  2.  2.  2.  1.  2.]\n",
      " [ 0.  1. 62.  1.  1.  1.  1.  2.  1.  2.  1.  2.  2.  2.  2.  2.]\n",
      " [ 0.  1. 68.  1.  1.  2.  2.  2.  1.  1.  1.  2.  1.  1.  1.  1.]\n",
      " [ 1.  0. 67.  2.  2.  2.  2.  1.  2.  1.  1.  1.  1.  1.  1.  1.]\n",
      " [ 1.  0. 65.  2.  2.  2.  2.  1.  2.  1.  2.  1.  2.  2.  2.  1.]\n",
      " [ 1.  0. 55.  2.  2.  2.  2.  2.  2.  1.  2.  1.  2.  2.  2.  1.]\n",
      " [ 1.  0. 71.  2.  2.  2.  2.  2.  2.  1.  2.  1.  2.  1.  2.  2.]\n",
      " [ 1.  0. 61.  2.  2.  2.  1.  1.  2.  2.  1.  2.  1.  2.  2.  2.]\n",
      " [ 1.  0. 56.  1.  2.  1.  1.  2.  2.  2.  2.  1.  2.  2.  1.  2.]\n",
      " [ 0.  1. 64.  1.  2.  2.  2.  1.  1.  2.  1.  2.  1.  1.  2.  2.]\n",
      " [ 1.  0. 62.  1.  1.  1.  2.  1.  1.  1.  2.  2.  1.  1.  2.  2.]\n",
      " [ 1.  0. 56.  2.  2.  2.  1.  1.  2.  2.  1.  1.  1.  2.  1.  2.]\n",
      " [ 0.  1. 52.  1.  2.  2.  1.  2.  1.  2.  2.  2.  2.  1.  2.  1.]\n",
      " [ 1.  0. 21.  2.  1.  1.  1.  2.  2.  2.  1.  1.  1.  2.  1.  1.]\n",
      " [ 0.  1. 67.  2.  1.  2.  1.  1.  2.  2.  1.  2.  2.  2.  1.  2.]\n",
      " [ 0.  1. 59.  2.  1.  1.  1.  1.  2.  2.  2.  2.  2.  2.  1.  2.]\n",
      " [ 1.  0. 49.  1.  2.  2.  1.  1.  1.  1.  1.  1.  2.  1.  1.  1.]\n",
      " [ 0.  1. 61.  1.  1.  2.  2.  2.  1.  1.  1.  2.  1.  1.  1.  1.]\n",
      " [ 0.  1. 68.  2.  1.  2.  1.  1.  2.  1.  1.  1.  1.  1.  1.  1.]\n",
      " [ 0.  1. 65.  2.  2.  2.  2.  2.  1.  1.  1.  1.  1.  1.  1.  1.]\n",
      " [ 1.  0. 48.  1.  2.  2.  2.  2.  2.  2.  2.  1.  2.  2.  2.  1.]\n",
      " [ 1.  0. 55.  2.  1.  1.  2.  2.  2.  2.  2.  2.  1.  1.  2.  2.]\n",
      " [ 0.  1. 70.  1.  2.  1.  2.  2.  2.  2.  2.  2.  2.  1.  2.  2.]\n",
      " [ 1.  0. 62.  1.  1.  1.  1.  2.  2.  1.  1.  1.  1.  2.  1.  1.]\n",
      " [ 1.  0. 60.  2.  1.  1.  1.  1.  2.  1.  1.  1.  1.  2.  1.  1.]\n",
      " [ 0.  1. 61.  2.  1.  1.  1.  1.  2.  2.  2.  2.  2.  2.  1.  2.]\n",
      " [ 1.  0. 75.  1.  2.  2.  2.  1.  1.  2.  2.  1.  2.  1.  2.  1.]\n",
      " [ 1.  0. 49.  1.  1.  1.  2.  2.  1.  2.  1.  2.  2.  2.  1.  1.]\n",
      " [ 1.  0. 54.  2.  2.  2.  2.  2.  2.  1.  1.  1.  1.  2.  2.  1.]\n",
      " [ 0.  1. 67.  1.  2.  2.  2.  1.  2.  2.  1.  1.  2.  1.  2.  1.]\n",
      " [ 0.  1. 64.  1.  2.  2.  2.  1.  1.  2.  1.  2.  1.  1.  2.  2.]\n",
      " [ 0.  1. 60.  2.  1.  1.  1.  1.  2.  2.  2.  2.  2.  2.  1.  2.]\n",
      " [ 0.  1. 59.  1.  2.  2.  2.  2.  1.  2.  1.  2.  1.  1.  2.  2.]\n",
      " [ 0.  1. 57.  2.  1.  1.  1.  1.  2.  1.  2.  2.  2.  2.  1.  2.]\n",
      " [ 0.  1. 62.  2.  2.  2.  1.  2.  2.  2.  2.  1.  1.  2.  1.  1.]\n",
      " [ 1.  0. 75.  1.  2.  1.  2.  2.  2.  2.  1.  2.  2.  1.  1.  1.]\n",
      " [ 0.  1. 65.  2.  2.  2.  2.  1.  2.  2.  1.  1.  1.  2.  2.  1.]\n",
      " [ 0.  1. 69.  1.  1.  2.  1.  1.  2.  1.  2.  2.  2.  2.  2.  1.]\n",
      " [ 1.  0. 64.  1.  1.  2.  1.  2.  1.  2.  2.  2.  1.  1.  2.  1.]\n",
      " [ 1.  0. 54.  2.  1.  1.  2.  1.  2.  2.  2.  2.  2.  1.  2.  2.]\n",
      " [ 0.  1. 74.  1.  2.  1.  2.  1.  2.  2.  2.  2.  2.  2.  1.  2.]\n",
      " [ 0.  1. 55.  2.  1.  1.  1.  1.  2.  2.  2.  2.  2.  2.  1.  2.]\n",
      " [ 0.  1. 57.  2.  2.  2.  2.  2.  1.  1.  1.  2.  1.  1.  2.  2.]\n",
      " [ 0.  1. 58.  2.  1.  1.  1.  1.  2.  2.  2.  2.  2.  2.  1.  2.]\n",
      " [ 1.  0. 68.  2.  1.  2.  1.  1.  2.  1.  1.  1.  1.  1.  1.  1.]\n",
      " [ 0.  1. 67.  1.  1.  1.  2.  1.  2.  1.  2.  1.  2.  2.  1.  2.]\n",
      " [ 0.  1. 70.  1.  1.  1.  1.  2.  2.  2.  1.  2.  2.  2.  1.  2.]\n",
      " [ 0.  1. 51.  1.  2.  1.  1.  2.  2.  2.  2.  2.  2.  2.  1.  2.]\n",
      " [ 0.  1. 47.  2.  2.  1.  1.  2.  1.  1.  1.  1.  1.  1.  1.  2.]\n",
      " [ 1.  0. 55.  2.  1.  1.  2.  2.  2.  2.  2.  2.  1.  1.  2.  2.]\n",
      " [ 0.  1. 55.  2.  1.  1.  1.  1.  2.  2.  1.  1.  1.  2.  1.  2.]\n",
      " [ 0.  1. 76.  2.  1.  1.  1.  1.  2.  2.  2.  2.  2.  2.  1.  2.]\n",
      " [ 1.  0. 75.  1.  2.  1.  1.  2.  2.  2.  2.  1.  2.  2.  1.  1.]\n",
      " [ 0.  1. 69.  2.  2.  2.  2.  1.  2.  2.  1.  2.  2.  2.  1.  2.]\n",
      " [ 1.  0. 74.  2.  2.  2.  2.  1.  2.  1.  2.  1.  2.  2.  2.  1.]\n",
      " [ 0.  1. 70.  2.  1.  2.  1.  1.  2.  2.  1.  2.  2.  2.  1.  2.]\n",
      " [ 0.  1. 59.  1.  2.  2.  1.  1.  1.  1.  1.  1.  1.  1.  2.  2.]\n",
      " [ 0.  1. 69.  2.  2.  2.  2.  1.  2.  2.  1.  1.  1.  2.  2.  1.]\n",
      " [ 1.  0. 67.  2.  2.  2.  1.  2.  1.  1.  1.  1.  1.  2.  2.  2.]\n",
      " [ 1.  0. 64.  1.  2.  2.  2.  1.  1.  2.  2.  1.  2.  1.  2.  1.]\n",
      " [ 0.  1. 62.  2.  2.  2.  2.  2.  1.  1.  1.  2.  1.  1.  2.  2.]]\n"
     ]
    }
   ],
   "source": [
    "print(x_test)"
   ]
  },
  {
   "cell_type": "code",
   "execution_count": 164,
   "metadata": {},
   "outputs": [
    {
     "name": "stdout",
     "output_type": "stream",
     "text": [
      "[1 1 1 1 1 1 1 1 1 1 1 1 1 1 1 1 1 0 0 1 1 0 1 1 1 0 1 1 0 1 1 0 1 1 1 1 1\n",
      " 1 1 1 1 1 0 1 1 1 1 1 0 1 1 1 1 1 0 1 1 1 1 1 1 1 1 0 1 1 1 1 1 1 1 1 1 1\n",
      " 1 1 1 1 1 1 1 0 1 1 0 1 0 1 1 1 1 0 1 1 1 0 0 1 1 0 1 1 1 0 1 1 1 0 1 0 1\n",
      " 1 1 1 1 1 1 1 0 1 1 1 1 1 1 1 1 1 1 1 1 1 1 1 1 1 1 1 1 1 1 1 1 1 1 1 1 1\n",
      " 1 1 1 1 1 1 1 1 1 1 1 0 1 1 1 1 0 1 1 1 1 1 1 1 1 1 1 1 1 1 1 1 1 1 1 1 1\n",
      " 1 1 0 1 1 1 1 1 1 1 1 1 1 1 1 1 1 1 0 1 1 0 1 1 1 1 1 0 1 1 0 1 1 1 1 1 1\n",
      " 1 1 1 1 1 1 1 1 1 1 1 1 1 1 1 1 0 1 1 1 1 1 1 1 1]\n"
     ]
    }
   ],
   "source": [
    "print(y_train)"
   ]
  },
  {
   "cell_type": "code",
   "execution_count": 165,
   "metadata": {},
   "outputs": [
    {
     "name": "stdout",
     "output_type": "stream",
     "text": [
      "[1 1 1 0 1 1 1 1 1 1 1 1 1 1 0 1 1 1 0 0 1 1 1 1 0 0 1 1 1 1 1 1 1 1 1 1 1\n",
      " 1 1 1 1 1 1 1 1 0 1 1 1 0 1 0 1 1 1 1 1 0 1 1 1 1]\n"
     ]
    }
   ],
   "source": [
    "print(y_test)"
   ]
  },
  {
   "cell_type": "markdown",
   "metadata": {},
   "source": [
    "***FITTING THE MACHINE LEARNING MODEL IN THE DATASET TO TRAIN IT***"
   ]
  },
  {
   "cell_type": "code",
   "execution_count": 167,
   "metadata": {},
   "outputs": [
    {
     "data": {
      "text/plain": [
       "RandomForestClassifier(criterion='entropy', n_estimators=10, random_state=0)"
      ]
     },
     "execution_count": 167,
     "metadata": {},
     "output_type": "execute_result"
    }
   ],
   "source": [
    "from sklearn.ensemble import RandomForestClassifier\n",
    "classifier = RandomForestClassifier(n_estimators = 10, criterion = 'entropy', random_state = 0)\n",
    "classifier.fit(x_train, y_train)"
   ]
  },
  {
   "cell_type": "markdown",
   "metadata": {},
   "source": [
    "***PRINTING THE PREDICTED AND ORIGINAL RESULTS SIDE BY SIDE TO COMPARE***"
   ]
  },
  {
   "cell_type": "code",
   "execution_count": 168,
   "metadata": {},
   "outputs": [
    {
     "name": "stdout",
     "output_type": "stream",
     "text": [
      "[[1 1]\n",
      " [1 1]\n",
      " [1 1]\n",
      " [0 0]\n",
      " [1 1]\n",
      " [1 1]\n",
      " [1 1]\n",
      " [1 1]\n",
      " [1 1]\n",
      " [1 1]\n",
      " [1 1]\n",
      " [1 1]\n",
      " [1 1]\n",
      " [1 1]\n",
      " [0 0]\n",
      " [1 1]\n",
      " [1 1]\n",
      " [0 1]\n",
      " [0 0]\n",
      " [0 0]\n",
      " [1 1]\n",
      " [1 1]\n",
      " [1 1]\n",
      " [1 1]\n",
      " [0 0]\n",
      " [0 0]\n",
      " [1 1]\n",
      " [1 1]\n",
      " [1 1]\n",
      " [1 1]\n",
      " [1 1]\n",
      " [1 1]\n",
      " [1 1]\n",
      " [1 1]\n",
      " [1 1]\n",
      " [1 1]\n",
      " [1 1]\n",
      " [1 1]\n",
      " [1 1]\n",
      " [1 1]\n",
      " [1 1]\n",
      " [1 1]\n",
      " [1 1]\n",
      " [1 1]\n",
      " [1 1]\n",
      " [0 0]\n",
      " [1 1]\n",
      " [1 1]\n",
      " [1 1]\n",
      " [0 0]\n",
      " [1 1]\n",
      " [1 0]\n",
      " [1 1]\n",
      " [1 1]\n",
      " [1 1]\n",
      " [1 1]\n",
      " [1 1]\n",
      " [0 0]\n",
      " [1 1]\n",
      " [1 1]\n",
      " [1 1]\n",
      " [1 1]]\n"
     ]
    }
   ],
   "source": [
    "y_pred = classifier.predict(x_test)\n",
    "print(np.concatenate((y_pred.reshape(len(y_pred),1), y_test.reshape(len(y_test),1)),1))"
   ]
  },
  {
   "cell_type": "markdown",
   "metadata": {},
   "source": [
    "***PRINTING THE CONFUSION MATRIX AND THE ACCURACY OF THE MODEL***"
   ]
  },
  {
   "cell_type": "code",
   "execution_count": 169,
   "metadata": {},
   "outputs": [
    {
     "name": "stdout",
     "output_type": "stream",
     "text": [
      "[[ 9  1]\n",
      " [ 1 51]]\n"
     ]
    },
    {
     "data": {
      "text/plain": [
       "0.967741935483871"
      ]
     },
     "execution_count": 169,
     "metadata": {},
     "output_type": "execute_result"
    }
   ],
   "source": [
    "from sklearn.metrics import confusion_matrix,accuracy_score\n",
    "print(confusion_matrix(y_test,y_pred))\n",
    "accuracy_score(y_test,y_pred)"
   ]
  },
  {
   "cell_type": "markdown",
   "metadata": {},
   "source": [
    "***OBSERVATION : THE ACCURACY OF OUR MACHINE LEARNING MODEL IS 96.774 % WHICH SHOWS THAT OUR MODEL IS WELL ADAPTED TO THE DATASET AND IS ABLE TO PREDICT THE RESULTS WITH HIGH ACCURACY***"
   ]
  }
 ],
 "metadata": {
  "kernelspec": {
   "display_name": "Python 3.8.8 ('base')",
   "language": "python",
   "name": "python3"
  },
  "language_info": {
   "codemirror_mode": {
    "name": "ipython",
    "version": 3
   },
   "file_extension": ".py",
   "mimetype": "text/x-python",
   "name": "python",
   "nbconvert_exporter": "python",
   "pygments_lexer": "ipython3",
   "version": "3.8.8"
  },
  "orig_nbformat": 4,
  "vscode": {
   "interpreter": {
    "hash": "52d90d3cc821dd0beedd6e719dbdecc722c226b9d90ed1b663c34e1877f1142e"
   }
  }
 },
 "nbformat": 4,
 "nbformat_minor": 2
}
